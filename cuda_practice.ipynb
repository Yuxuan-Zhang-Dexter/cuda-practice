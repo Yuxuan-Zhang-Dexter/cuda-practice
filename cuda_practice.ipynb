{
  "nbformat": 4,
  "nbformat_minor": 0,
  "metadata": {
    "colab": {
      "provenance": [],
      "gpuType": "T4",
      "authorship_tag": "ABX9TyON5vzNSlIo80Jji/9/XI2L",
      "include_colab_link": true
    },
    "kernelspec": {
      "name": "python3",
      "display_name": "Python 3"
    },
    "language_info": {
      "name": "python"
    },
    "accelerator": "GPU"
  },
  "cells": [
    {
      "cell_type": "markdown",
      "metadata": {
        "id": "view-in-github",
        "colab_type": "text"
      },
      "source": [
        "<a href=\"https://colab.research.google.com/github/Yuxuan-Zhang-Dexter/cuda-practice/blob/main/cuda_practice.ipynb\" target=\"_parent\"><img src=\"https://colab.research.google.com/assets/colab-badge.svg\" alt=\"Open In Colab\"/></a>"
      ]
    },
    {
      "cell_type": "code",
      "execution_count": 1,
      "metadata": {
        "colab": {
          "base_uri": "https://localhost:8080/"
        },
        "id": "rKey6pC0n_S1",
        "outputId": "921bef7f-d880-4d6a-e51e-c43174052912"
      },
      "outputs": [
        {
          "output_type": "stream",
          "name": "stdout",
          "text": [
            "Tue Jan  9 05:11:06 2024       \n",
            "+---------------------------------------------------------------------------------------+\n",
            "| NVIDIA-SMI 535.104.05             Driver Version: 535.104.05   CUDA Version: 12.2     |\n",
            "|-----------------------------------------+----------------------+----------------------+\n",
            "| GPU  Name                 Persistence-M | Bus-Id        Disp.A | Volatile Uncorr. ECC |\n",
            "| Fan  Temp   Perf          Pwr:Usage/Cap |         Memory-Usage | GPU-Util  Compute M. |\n",
            "|                                         |                      |               MIG M. |\n",
            "|=========================================+======================+======================|\n",
            "|   0  Tesla T4                       Off | 00000000:00:04.0 Off |                    0 |\n",
            "| N/A   66C    P8              11W /  70W |      0MiB / 15360MiB |      0%      Default |\n",
            "|                                         |                      |                  N/A |\n",
            "+-----------------------------------------+----------------------+----------------------+\n",
            "                                                                                         \n",
            "+---------------------------------------------------------------------------------------+\n",
            "| Processes:                                                                            |\n",
            "|  GPU   GI   CI        PID   Type   Process name                            GPU Memory |\n",
            "|        ID   ID                                                             Usage      |\n",
            "|=======================================================================================|\n",
            "|  No running processes found                                                           |\n",
            "+---------------------------------------------------------------------------------------+\n"
          ]
        }
      ],
      "source": [
        "!nvidia-smi"
      ]
    },
    {
      "cell_type": "code",
      "source": [
        "!nvcc --version"
      ],
      "metadata": {
        "colab": {
          "base_uri": "https://localhost:8080/"
        },
        "id": "qDtuUcwjoyGr",
        "outputId": "ffd7b895-6f67-4148-ceb7-cec197e584c4"
      },
      "execution_count": 6,
      "outputs": [
        {
          "output_type": "stream",
          "name": "stdout",
          "text": [
            "nvcc: NVIDIA (R) Cuda compiler driver\n",
            "Copyright (c) 2005-2023 NVIDIA Corporation\n",
            "Built on Tue_Aug_15_22:02:13_PDT_2023\n",
            "Cuda compilation tools, release 12.2, V12.2.140\n",
            "Build cuda_12.2.r12.2/compiler.33191640_0\n"
          ]
        }
      ]
    },
    {
      "cell_type": "code",
      "source": [
        "# Install the extension\n",
        "!pip install git+https://github.com/andreinechaev/nvcc4jupyter.git\n",
        "\n",
        "# Load the extension into Colab\n",
        "%load_ext nvcc_plugin"
      ],
      "metadata": {
        "colab": {
          "base_uri": "https://localhost:8080/"
        },
        "id": "HtRWPt5vqDpI",
        "outputId": "ca912e92-df34-457c-85ff-6d3572bea08d"
      },
      "execution_count": 7,
      "outputs": [
        {
          "output_type": "stream",
          "name": "stdout",
          "text": [
            "Collecting git+https://github.com/andreinechaev/nvcc4jupyter.git\n",
            "  Cloning https://github.com/andreinechaev/nvcc4jupyter.git to /tmp/pip-req-build-4v_pfisd\n",
            "  Running command git clone --filter=blob:none --quiet https://github.com/andreinechaev/nvcc4jupyter.git /tmp/pip-req-build-4v_pfisd\n",
            "  Resolved https://github.com/andreinechaev/nvcc4jupyter.git to commit 0d2ab99cccbbc682722e708515fe9c4cfc50185a\n",
            "  Preparing metadata (setup.py) ... \u001b[?25l\u001b[?25hdone\n",
            "Building wheels for collected packages: NVCCPlugin\n",
            "  Building wheel for NVCCPlugin (setup.py) ... \u001b[?25l\u001b[?25hdone\n",
            "  Created wheel for NVCCPlugin: filename=NVCCPlugin-0.0.2-py3-none-any.whl size=4716 sha256=455bb1a08aeb2f0c8d9081b68e6398a35aaeee9728ca66180923680b72b8d928\n",
            "  Stored in directory: /tmp/pip-ephem-wheel-cache-2jmuhpii/wheels/a8/b9/18/23f8ef71ceb0f63297dd1903aedd067e6243a68ea756d6feea\n",
            "Successfully built NVCCPlugin\n",
            "Installing collected packages: NVCCPlugin\n",
            "Successfully installed NVCCPlugin-0.0.2\n",
            "created output directory at /content/src\n",
            "Out bin /content/result.out\n"
          ]
        }
      ]
    },
    {
      "cell_type": "code",
      "source": [
        "### First Compile Cuda Code\n",
        "%%cu\n",
        "#include <iostream>\n",
        "int main( void ) {\n",
        " printf( \"Hello, World!\\n\" );\n",
        " return 0;\n",
        "}"
      ],
      "metadata": {
        "colab": {
          "base_uri": "https://localhost:8080/"
        },
        "id": "dFurs61TodI2",
        "outputId": "585ede64-1a7e-4455-9e12-29ce594c612d"
      },
      "execution_count": 11,
      "outputs": [
        {
          "output_type": "stream",
          "name": "stdout",
          "text": [
            "Hello, World!\n",
            "\n"
          ]
        }
      ]
    },
    {
      "cell_type": "code",
      "source": [
        "### Kernal Call - kernel function runs on device, main function runs on host\n",
        "%%cu\n",
        "#include <iostream>\n",
        "\n",
        "__global__ void kernel() {\n",
        "    // Kernel code goes here\n",
        "}\n",
        "\n",
        "int main() {\n",
        "    kernel<<<1,1>>>(); // Launch the kernel\n",
        "    printf(\"Hello, World!\\n\");\n",
        "    return 0;\n",
        "}\n"
      ],
      "metadata": {
        "colab": {
          "base_uri": "https://localhost:8080/"
        },
        "id": "4awHNfLxuFar",
        "outputId": "350d182d-f762-4ad2-8d28-c24723ed0bc2"
      },
      "execution_count": 13,
      "outputs": [
        {
          "output_type": "stream",
          "name": "stdout",
          "text": [
            "Hello, World!\n",
            "\n"
          ]
        }
      ]
    },
    {
      "cell_type": "code",
      "source": [
        "### passing parameter to the device\n",
        "%%cu\n",
        "#include <iostream>\n",
        "__global__ void add( int a, int b, int *c ) {\n",
        " *c = a + b;\n",
        "}\n",
        "int main( void ) {\n",
        " int c;\n",
        " int *dev_c;\n",
        " cudaMalloc( (void**)&dev_c, sizeof(int) ); // allocate int space on the device\n",
        " add<<<1,1>>>( 2, 7, dev_c );\n",
        " cudaMemcpy( &c, dev_c, sizeof(int), cudaMemcpyDeviceToHost ); // read the content from device to host by using two pointers\n",
        " printf( \"2 + 7 = %d\\n\", c );\n",
        " cudaFree( dev_c ); // cuda free device memory\n",
        " return 0;\n",
        "}"
      ],
      "metadata": {
        "colab": {
          "base_uri": "https://localhost:8080/"
        },
        "id": "ZM5WC3BBu_DW",
        "outputId": "86e2a6ce-2088-4b09-d641-f33fabbdb485"
      },
      "execution_count": 17,
      "outputs": [
        {
          "output_type": "stream",
          "name": "stdout",
          "text": [
            "2 + 7 = 9\n",
            "\n"
          ]
        }
      ]
    },
    {
      "cell_type": "code",
      "source": [
        "### print device info\n",
        "%%cu\n",
        "#include <iostream>\n",
        "\n",
        "int main(void) {\n",
        "    cudaDeviceProp prop;\n",
        "    int count;\n",
        "    cudaGetDeviceCount(&count);\n",
        "\n",
        "    for (int i = 0; i < count; i++) {\n",
        "        cudaGetDeviceProperties(&prop, i);\n",
        "\n",
        "        printf(\"--- General Information for device %d ---\\n\", i);\n",
        "        printf(\"Name: %s\\n\", prop.name);\n",
        "        printf(\"Compute capability: %d.%d\\n\", prop.major, prop.minor);\n",
        "        printf(\"Clock rate: %d\\n\", prop.clockRate);\n",
        "        printf(\"Device copy overlap: \");\n",
        "        if (prop.deviceOverlap)\n",
        "            printf(\"Enabled\\n\");\n",
        "        else\n",
        "            printf(\"Disabled\\n\");\n",
        "        printf(\"Kernel execution timeout: \");\n",
        "        if (prop.kernelExecTimeoutEnabled)\n",
        "            printf(\"Enabled\\n\");\n",
        "        else\n",
        "            printf(\"Disabled\\n\");\n",
        "\n",
        "        printf(\"--- Memory Information for device %d ---\\n\", i);\n",
        "        printf(\"Total global mem: %ld\\n\", prop.totalGlobalMem);\n",
        "        printf(\"Total constant Mem: %ld\\n\", prop.totalConstMem);\n",
        "        printf(\"Max mem pitch: %ld\\n\", prop.memPitch);\n",
        "        printf(\"Texture Alignment: %ld\\n\", prop.textureAlignment);\n",
        "\n",
        "        printf(\"--- MP Information for device %d ---\\n\", i);\n",
        "        printf(\"Multiprocessor count: %d\\n\", prop.multiProcessorCount);\n",
        "        printf(\"Shared mem per mp: %ld\\n\", prop.sharedMemPerBlock);\n",
        "        printf(\"Registers per mp: %d\\n\", prop.regsPerBlock);\n",
        "        printf(\"Threads in warp: %d\\n\", prop.warpSize);\n",
        "        printf(\"Max threads per block: %d\\n\", prop.maxThreadsPerBlock);\n",
        "        printf(\"Max thread dimensions: (%d, %d, %d)\\n\",\n",
        "               prop.maxThreadsDim[0], prop.maxThreadsDim[1], prop.maxThreadsDim[2]);\n",
        "        printf(\"Max grid dimensions: (%d, %d, %d)\\n\",\n",
        "               prop.maxGridSize[0], prop.maxGridSize[1], prop.maxGridSize[2]);\n",
        "        printf(\"\\n\");\n",
        "    }\n",
        "\n",
        "    return 0;\n",
        "}\n"
      ],
      "metadata": {
        "colab": {
          "base_uri": "https://localhost:8080/"
        },
        "id": "8P1l9eeN2sB9",
        "outputId": "40706368-e8bb-4b9b-ed21-7c7e63055a20"
      },
      "execution_count": 23,
      "outputs": [
        {
          "output_type": "stream",
          "name": "stdout",
          "text": [
            "--- General Information for device 0 ---\n",
            "Name: Tesla T4\n",
            "Compute capability: 7.5\n",
            "Clock rate: 1590000\n",
            "Device copy overlap: Enabled\n",
            "Kernel execution timeout: Disabled\n",
            "--- Memory Information for device 0 ---\n",
            "Total global mem: 15835660288\n",
            "Total constant Mem: 65536\n",
            "Max mem pitch: 2147483647\n",
            "Texture Alignment: 512\n",
            "--- MP Information for device 0 ---\n",
            "Multiprocessor count: 40\n",
            "Shared mem per mp: 49152\n",
            "Registers per mp: 65536\n",
            "Threads in warp: 32\n",
            "Max threads per block: 1024\n",
            "Max thread dimensions: (1024, 1024, 64)\n",
            "Max grid dimensions: (2147483647, 65535, 65535)\n",
            "\n",
            "\n"
          ]
        }
      ]
    },
    {
      "cell_type": "code",
      "source": [
        "### look for a device satisfied a cuda version\n",
        "%%cu\n",
        "#include <iostream>\n",
        "int main( void ) {\n",
        "    cudaDeviceProp prop;\n",
        "    int dev;\n",
        "    cudaGetDevice( &dev );\n",
        "    printf( \"ID of current CUDA device: %d\\n\", dev );\n",
        "    memset( &prop, 0, sizeof( cudaDeviceProp ) );\n",
        "    prop.major = 1;\n",
        "    prop.minor = 3;\n",
        "    cudaChooseDevice( &dev, &prop );\n",
        "    printf( \"ID of CUDA device closest to revision 1.3: %d\\n\", dev );\n",
        "    cudaSetDevice( dev );\n",
        "}"
      ],
      "metadata": {
        "colab": {
          "base_uri": "https://localhost:8080/"
        },
        "id": "EZr_AmJM9Pyt",
        "outputId": "e3483c53-e737-4f46-e036-cd166ca3f80c"
      },
      "execution_count": 25,
      "outputs": [
        {
          "output_type": "stream",
          "name": "stdout",
          "text": [
            "ID of current CUDA device: 0\n",
            "ID of CUDA device closest to revision 1.3: 0\n",
            "\n"
          ]
        }
      ]
    },
    {
      "cell_type": "code",
      "source": [
        "### CPU Vector SUMs - one cpu: [0, 1, 2, ..., 10]; two cpus: [0, 2, 4, ..., 10], [1, 3, 5, ..., 9] in tid\n",
        "%%cu\n",
        "#include <iostream>\n",
        "\n",
        "#define N 10\n",
        "\n",
        "// Function to add the elements of two arrays\n",
        "void add(int *a, int *b, int *c) {\n",
        "    int tid = 0; // this is CPU zero, so we start at zero\n",
        "    while (tid < N) {\n",
        "        c[tid] = a[tid] + b[tid];\n",
        "        tid += 1; // we have one CPU, so we increment by one\n",
        "    }\n",
        "}\n",
        "\n",
        "int main(void) {\n",
        "    int a[N], b[N], c[N];\n",
        "\n",
        "    // fill the arrays 'a' and 'b' on the CPU\n",
        "    for (int i = 0; i < N; i++) {\n",
        "        a[i] = -i;\n",
        "        b[i] = i * i;\n",
        "    }\n",
        "\n",
        "    add(a, b, c);\n",
        "\n",
        "    // display the results\n",
        "    for (int i = 0; i < N; i++) {\n",
        "        printf(\"%d + %d = %d\\n\", a[i], b[i], c[i]);\n",
        "    }\n",
        "\n",
        "    return 0;\n",
        "}\n"
      ],
      "metadata": {
        "colab": {
          "base_uri": "https://localhost:8080/"
        },
        "id": "W4zsnWAl_LpR",
        "outputId": "7798443d-3951-470d-b323-85d7cf665849"
      },
      "execution_count": 26,
      "outputs": [
        {
          "output_type": "stream",
          "name": "stdout",
          "text": [
            "0 + 0 = 0\n",
            "-1 + 1 = 0\n",
            "-2 + 4 = 2\n",
            "-3 + 9 = 6\n",
            "-4 + 16 = 12\n",
            "-5 + 25 = 20\n",
            "-6 + 36 = 30\n",
            "-7 + 49 = 42\n",
            "-8 + 64 = 56\n",
            "-9 + 81 = 72\n",
            "\n"
          ]
        }
      ]
    },
    {
      "cell_type": "code",
      "source": [
        "### GPU Vector SUMs\n",
        "%%cu\n",
        "#include <iostream>\n",
        "#include <cuda_runtime.h>\n",
        "#define N 10\n",
        "\n",
        "__global__ void add(int *a, int *b, int *c) {\n",
        "    int tid = blockIdx.x; // handle the data at this index\n",
        "    if (tid < N) {\n",
        "        c[tid] = a[tid] + b[tid];\n",
        "    }\n",
        "}\n",
        "\n",
        "int main(void) {\n",
        "    int a[N], b[N], c[N];\n",
        "    int *dev_a, *dev_b, *dev_c;\n",
        "\n",
        "    // Allocate the memory on the GPU\n",
        "    cudaMalloc((void**)&dev_a, N * sizeof(int));\n",
        "    cudaMalloc((void**)&dev_b, N * sizeof(int));\n",
        "    cudaMalloc((void**)&dev_c, N * sizeof(int));\n",
        "\n",
        "    // Fill the arrays 'a' and 'b' on the CPU\n",
        "    for (int i = 0; i < N; i++) {\n",
        "        a[i] = -i;\n",
        "        b[i] = i * i;\n",
        "    }\n",
        "\n",
        "    // Copy the arrays 'a' and 'b' to the GPU\n",
        "    cudaMemcpy(dev_a, a, N * sizeof(int), cudaMemcpyHostToDevice);\n",
        "    cudaMemcpy(dev_b, b, N * sizeof(int), cudaMemcpyHostToDevice);\n",
        "\n",
        "    // Launch the kernel on the GPU, N is number of blocks. In each block, it will run each thread in the same way defined in add kernel. <<<number_of_blocks, number_of_threads_per_block>>>\n",
        "    add<<<N,1>>>(dev_a, dev_b, dev_c);\n",
        "\n",
        "    // Copy the array 'c' back from the GPU to the CPU\n",
        "    cudaMemcpy(c, dev_c, N * sizeof(int), cudaMemcpyDeviceToHost);\n",
        "\n",
        "    // Display the results\n",
        "    for (int i = 0; i < N; i++) {\n",
        "        printf(\"%d + %d = %d\\n\", a[i], b[i], c[i]);\n",
        "    }\n",
        "\n",
        "    // Free the memory allocated on the GPU\n",
        "    cudaFree(dev_a);\n",
        "    cudaFree(dev_b);\n",
        "    cudaFree(dev_c);\n",
        "\n",
        "    return 0;\n",
        "}\n",
        "\n",
        "\n",
        "\n"
      ],
      "metadata": {
        "colab": {
          "base_uri": "https://localhost:8080/"
        },
        "id": "aOxNQaGEKb6R",
        "outputId": "ffcff8c5-39ee-41c3-cd58-a307cb5611c3"
      },
      "execution_count": 28,
      "outputs": [
        {
          "output_type": "stream",
          "name": "stdout",
          "text": [
            "0 + 0 = 0\n",
            "-1 + 1 = 0\n",
            "-2 + 4 = 2\n",
            "-3 + 9 = 6\n",
            "-4 + 16 = 12\n",
            "-5 + 25 = 20\n",
            "-6 + 36 = 30\n",
            "-7 + 49 = 42\n",
            "-8 + 64 = 56\n",
            "-9 + 81 = 72\n",
            "\n"
          ]
        }
      ]
    }
  ]
}